{
 "cells": [
  {
   "cell_type": "code",
   "execution_count": 1,
   "metadata": {},
   "outputs": [],
   "source": [
    "def find_split(data):\n",
    "    max_gain = 0\n",
    "    #first element of tuple is the attribute (specific wifi), second element is the split value\n",
    "    attribute = ()\n",
    "    for i in range(data.shape[1]-1):\n",
    "        #sort the dataset according to one column\n",
    "        data_sorted = data[np.argsort(data[:, i])]\n",
    "        for j in range(data_sorted.shape[0]-1):\n",
    "            #confirm that the successor values are different to ensure that we can make the split in the tree\n",
    "            if data_sorted[:j+1][-1][i] != data_sorted[j+1:][0][i]:\n",
    "                temp_gain = information_gain(data_sorted, data_sorted[:j+1], data_sorted[j+1:])\n",
    "                if temp_gain > max_gain:\n",
    "                    max_gain = temp_gain\n",
    "                    #value according to which the dataset is split\n",
    "                    split_point = (data_sorted[:j+1][-1][i] + data_sorted[j+1:][0][i])/2\n",
    "                    attribute = (i, split_point)\n",
    "    return attribute"
   ]
  }
 ],
 "metadata": {
  "kernelspec": {
   "display_name": "Python 3",
   "language": "python",
   "name": "python3"
  },
  "language_info": {
   "codemirror_mode": {
    "name": "ipython",
    "version": 3
   },
   "file_extension": ".py",
   "mimetype": "text/x-python",
   "name": "python",
   "nbconvert_exporter": "python",
   "pygments_lexer": "ipython3",
   "version": "3.8.5"
  }
 },
 "nbformat": 4,
 "nbformat_minor": 4
}
