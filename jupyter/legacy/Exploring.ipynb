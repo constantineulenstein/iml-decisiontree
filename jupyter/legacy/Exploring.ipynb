{
 "cells": [
  {
   "cell_type": "code",
   "execution_count": 41,
   "metadata": {},
   "outputs": [
    {
     "name": "stdout",
     "output_type": "stream",
     "text": [
      "The autoreload extension is already loaded. To reload it, use:\n",
      "  %reload_ext autoreload\n"
     ]
    }
   ],
   "source": [
    "import sys\n",
    "import os\n",
    "from functools import reduce\n",
    "sys.path.append('../')\n",
    "os.getcwd()\n",
    "\n",
    "import numpy as np\n",
    "from src.DecisionTree import DecisionTree\n",
    "from src.utils import *\n",
    "from src.validation import *\n",
    "\n",
    "#from src.load_data import *\n",
    "\n",
    "\n",
    "%load_ext autoreload\n",
    "%autoreload 2"
   ]
  },
  {
   "cell_type": "code",
   "execution_count": 42,
   "metadata": {},
   "outputs": [
    {
     "data": {
      "text/plain": [
       "array([[-64., -56., -61., ..., -82., -81.,   1.],\n",
       "       [-68., -57., -61., ..., -85., -85.,   1.],\n",
       "       [-63., -60., -60., ..., -85., -84.,   1.],\n",
       "       ...,\n",
       "       [-62., -59., -46., ..., -87., -88.,   4.],\n",
       "       [-62., -58., -52., ..., -90., -85.,   4.],\n",
       "       [-59., -50., -45., ..., -88., -87.,   4.]])"
      ]
     },
     "execution_count": 42,
     "metadata": {},
     "output_type": "execute_result"
    }
   ],
   "source": [
    "#Load data\n",
    "data_clean = np.loadtxt('../data/wifi_db/clean_dataset.txt')\n",
    "x_data = data_clean[:,:-1]\n",
    "y_data = data_clean[:,-1]\n",
    "data_clean"
   ]
  },
  {
   "cell_type": "code",
   "execution_count": 31,
   "metadata": {},
   "outputs": [],
   "source": [
    "data = get_data('noisy_dataset.txt')\n",
    "train = data[:1600,:]\n",
    "val = data[1600:1800]\n",
    "test = data[1800:,:]"
   ]
  },
  {
   "cell_type": "code",
   "execution_count": 33,
   "metadata": {},
   "outputs": [],
   "source": [
    "train_depr = train[(train[:,-1] == 1) | (train[:,-1] == 2)]"
   ]
  },
  {
   "cell_type": "code",
   "execution_count": 34,
   "metadata": {},
   "outputs": [],
   "source": [
    "decisiontree = DecisionTree()\n",
    "tree = decisiontree.buildTree(train_depr)"
   ]
  },
  {
   "cell_type": "code",
   "execution_count": 38,
   "metadata": {},
   "outputs": [],
   "source": [
    "decisiontree.prune(train_depr,val)"
   ]
  },
  {
   "cell_type": "code",
   "execution_count": 39,
   "metadata": {},
   "outputs": [
    {
     "name": "stdout",
     "output_type": "stream",
     "text": [
      "Depth of the tree: 2\n",
      "\n",
      "signal:3 val:-52.5\n",
      "├─ leaf val:1.0\n",
      "└─ leaf val:2.0\n"
     ]
    }
   ],
   "source": [
    "decisiontree.visualize()"
   ]
  },
  {
   "cell_type": "code",
   "execution_count": 36,
   "metadata": {},
   "outputs": [
    {
     "data": {
      "text/plain": [
       "array([[-52., -56., -52., ..., -86., -84.,   3.],\n",
       "       [-35., -55., -52., ..., -69., -82.,   2.],\n",
       "       [-59., -56., -53., ..., -85., -84.,   4.],\n",
       "       ...,\n",
       "       [-15., -60., -59., ..., -74., -73.,   2.],\n",
       "       [-52., -61., -48., ..., -80., -80.,   4.],\n",
       "       [-50., -54., -60., ..., -76., -77.,   2.]])"
      ]
     },
     "execution_count": 36,
     "metadata": {},
     "output_type": "execute_result"
    }
   ],
   "source": [
    "test"
   ]
  },
  {
   "cell_type": "code",
   "execution_count": 19,
   "metadata": {},
   "outputs": [],
   "source": [
    "test_depr = test\n",
    "test_depr[0,-1] = 5"
   ]
  },
  {
   "cell_type": "code",
   "execution_count": 40,
   "metadata": {},
   "outputs": [
    {
     "data": {
      "text/plain": [
       "{'confusionmatrix': array([[46.,  2., 20., 50.],\n",
       "        [ 2., 50., 29.,  1.],\n",
       "        [ 0.,  0.,  0.,  0.],\n",
       "        [ 0.,  0.,  0.,  0.]]),\n",
       " 'precision': array([0.38983051, 0.6097561 , 0.        , 0.        ]),\n",
       " 'recall': array([0.95833333, 0.96153846, 0.        , 0.        ]),\n",
       " 'F1score': array([0.55421687, 0.74626866, 0.        , 0.        ]),\n",
       " 'posClassRate': 0.48}"
      ]
     },
     "execution_count": 40,
     "metadata": {},
     "output_type": "execute_result"
    }
   ],
   "source": [
    "decisiontree.evaluate(test)"
   ]
  },
  {
   "cell_type": "code",
   "execution_count": 3,
   "metadata": {},
   "outputs": [
    {
     "data": {
      "text/plain": [
       "array([1., 2., 3., 4.])"
      ]
     },
     "execution_count": 3,
     "metadata": {},
     "output_type": "execute_result"
    }
   ],
   "source": [
    "np.unique(y_data)"
   ]
  },
  {
   "cell_type": "code",
   "execution_count": 10,
   "metadata": {},
   "outputs": [
    {
     "name": "stdout",
     "output_type": "stream",
     "text": [
      "[0 1 2 4 5 6 7 8 9]\n",
      "0\n",
      "1\n",
      "2\n",
      "4\n",
      "5\n",
      "6\n",
      "7\n",
      "8\n",
      "9\n"
     ]
    }
   ],
   "source": [
    "folds = np.delete(np.arange(10),3)\n",
    "print(folds)\n",
    "for i in folds:\n",
    "    print(i)"
   ]
  },
  {
   "cell_type": "code",
   "execution_count": 4,
   "metadata": {},
   "outputs": [
    {
     "data": {
      "text/plain": [
       "({'attribute': 0,\n",
       "  'val': -54.0,\n",
       "  'lbranch': {'attribute': 4,\n",
       "   'val': -59.0,\n",
       "   'lbranch': {'attribute': 3,\n",
       "    'val': -55.0,\n",
       "    'lbranch': {'attribute': 2,\n",
       "     'val': -55.0,\n",
       "     'lbranch': {'attribute': 'leaf',\n",
       "      'val': 1.0,\n",
       "      'lbranch': None,\n",
       "      'rbranch': None},\n",
       "     'rbranch': {'attribute': 6,\n",
       "      'val': -85.0,\n",
       "      'lbranch': {'attribute': 4,\n",
       "       'val': -62.0,\n",
       "       'lbranch': {'attribute': 5,\n",
       "        'val': -85.0,\n",
       "        'lbranch': {'attribute': 0,\n",
       "         'val': -56.0,\n",
       "         'lbranch': {'attribute': 'leaf',\n",
       "          'val': 4.0,\n",
       "          'lbranch': None,\n",
       "          'rbranch': None},\n",
       "         'rbranch': {'attribute': 'leaf',\n",
       "          'val': 3.0,\n",
       "          'lbranch': None,\n",
       "          'rbranch': None}},\n",
       "        'rbranch': {'attribute': 'leaf',\n",
       "         'val': 1.0,\n",
       "         'lbranch': None,\n",
       "         'rbranch': None}},\n",
       "       'rbranch': {'attribute': 'leaf',\n",
       "        'val': 4.0,\n",
       "        'lbranch': None,\n",
       "        'rbranch': None}},\n",
       "      'rbranch': {'attribute': 'leaf',\n",
       "       'val': 1.0,\n",
       "       'lbranch': None,\n",
       "       'rbranch': None}}},\n",
       "    'rbranch': {'attribute': 1,\n",
       "     'val': -50.0,\n",
       "     'lbranch': {'attribute': 'leaf',\n",
       "      'val': 3.0,\n",
       "      'lbranch': None,\n",
       "      'rbranch': None},\n",
       "     'rbranch': {'attribute': 0,\n",
       "      'val': -58.0,\n",
       "      'lbranch': {'attribute': 'leaf',\n",
       "       'val': 3.0,\n",
       "       'lbranch': None,\n",
       "       'rbranch': None},\n",
       "      'rbranch': {'attribute': 'leaf',\n",
       "       'val': 1.0,\n",
       "       'lbranch': None,\n",
       "       'rbranch': None}}}},\n",
       "   'rbranch': {'attribute': 4,\n",
       "    'val': -56.0,\n",
       "    'lbranch': {'attribute': 3,\n",
       "     'val': -58.0,\n",
       "     'lbranch': {'attribute': 'leaf',\n",
       "      'val': 4.0,\n",
       "      'lbranch': None,\n",
       "      'rbranch': None},\n",
       "     'rbranch': {'attribute': 'leaf',\n",
       "      'val': 3.0,\n",
       "      'lbranch': None,\n",
       "      'rbranch': None}},\n",
       "    'rbranch': {'attribute': 'leaf',\n",
       "     'val': 4.0,\n",
       "     'lbranch': None,\n",
       "     'rbranch': None}}},\n",
       "  'rbranch': {'attribute': 0,\n",
       "   'val': -44.0,\n",
       "   'lbranch': {'attribute': 4,\n",
       "    'val': -70.0,\n",
       "    'lbranch': {'attribute': 3,\n",
       "     'val': -48.0,\n",
       "     'lbranch': {'attribute': 2,\n",
       "      'val': -57.0,\n",
       "      'lbranch': {'attribute': 0,\n",
       "       'val': -50.0,\n",
       "       'lbranch': {'attribute': 'leaf',\n",
       "        'val': 3.0,\n",
       "        'lbranch': None,\n",
       "        'rbranch': None},\n",
       "       'rbranch': {'attribute': 'leaf',\n",
       "        'val': 2.0,\n",
       "        'lbranch': None,\n",
       "        'rbranch': None}},\n",
       "      'rbranch': {'attribute': 'leaf',\n",
       "       'val': 3.0,\n",
       "       'lbranch': None,\n",
       "       'rbranch': None}},\n",
       "     'rbranch': {'attribute': 1,\n",
       "      'val': -58.0,\n",
       "      'lbranch': {'attribute': 1,\n",
       "       'val': -59.0,\n",
       "       'lbranch': {'attribute': 'leaf',\n",
       "        'val': 2.0,\n",
       "        'lbranch': None,\n",
       "        'rbranch': None},\n",
       "       'rbranch': {'attribute': 'leaf',\n",
       "        'val': 3.0,\n",
       "        'lbranch': None,\n",
       "        'rbranch': None}},\n",
       "      'rbranch': {'attribute': 'leaf',\n",
       "       'val': 2.0,\n",
       "       'lbranch': None,\n",
       "       'rbranch': None}}},\n",
       "    'rbranch': {'attribute': 3,\n",
       "     'val': -39.0,\n",
       "     'lbranch': {'attribute': 4,\n",
       "      'val': -53.0,\n",
       "      'lbranch': {'attribute': 2,\n",
       "       'val': -53.0,\n",
       "       'lbranch': {'attribute': 5,\n",
       "        'val': -77.0,\n",
       "        'lbranch': {'attribute': 3,\n",
       "         'val': -48.0,\n",
       "         'lbranch': {'attribute': 6,\n",
       "          'val': -76.0,\n",
       "          'lbranch': {'attribute': 'leaf',\n",
       "           'val': 3.0,\n",
       "           'lbranch': None,\n",
       "           'rbranch': None},\n",
       "          'rbranch': {'attribute': 5,\n",
       "           'val': -85.0,\n",
       "           'lbranch': {'attribute': 'leaf',\n",
       "            'val': 2.0,\n",
       "            'lbranch': None,\n",
       "            'rbranch': None},\n",
       "           'rbranch': {'attribute': 'leaf',\n",
       "            'val': 3.0,\n",
       "            'lbranch': None,\n",
       "            'rbranch': None}}},\n",
       "         'rbranch': {'attribute': 6,\n",
       "          'val': -77.0,\n",
       "          'lbranch': {'attribute': 4,\n",
       "           'val': -68.0,\n",
       "           'lbranch': {'attribute': 'leaf',\n",
       "            'val': 2.0,\n",
       "            'lbranch': None,\n",
       "            'rbranch': None},\n",
       "           'rbranch': {'attribute': 1,\n",
       "            'val': -55.0,\n",
       "            'lbranch': {'attribute': 2,\n",
       "             'val': -55.0,\n",
       "             'lbranch': {'attribute': 'leaf',\n",
       "              'val': 3.0,\n",
       "              'lbranch': None,\n",
       "              'rbranch': None},\n",
       "             'rbranch': {'attribute': 2,\n",
       "              'val': -54.0,\n",
       "              'lbranch': {'attribute': 0,\n",
       "               'val': -45.0,\n",
       "               'lbranch': {'attribute': 'leaf',\n",
       "                'val': 2.0,\n",
       "                'lbranch': None,\n",
       "                'rbranch': None},\n",
       "               'rbranch': {'attribute': 'leaf',\n",
       "                'val': 3.0,\n",
       "                'lbranch': None,\n",
       "                'rbranch': None}},\n",
       "              'rbranch': {'attribute': 'leaf',\n",
       "               'val': 3.0,\n",
       "               'lbranch': None,\n",
       "               'rbranch': None}}},\n",
       "            'rbranch': {'attribute': 'leaf',\n",
       "             'val': 3.0,\n",
       "             'lbranch': None,\n",
       "             'rbranch': None}}},\n",
       "          'rbranch': {'attribute': 2,\n",
       "           'val': -54.0,\n",
       "           'lbranch': {'attribute': 'leaf',\n",
       "            'val': 2.0,\n",
       "            'lbranch': None,\n",
       "            'rbranch': None},\n",
       "           'rbranch': {'attribute': 0,\n",
       "            'val': -45.0,\n",
       "            'lbranch': {'attribute': 'leaf',\n",
       "             'val': 3.0,\n",
       "             'lbranch': None,\n",
       "             'rbranch': None},\n",
       "            'rbranch': {'attribute': 'leaf',\n",
       "             'val': 2.0,\n",
       "             'lbranch': None,\n",
       "             'rbranch': None}}}}},\n",
       "        'rbranch': {'attribute': 4,\n",
       "         'val': -67.0,\n",
       "         'lbranch': {'attribute': 'leaf',\n",
       "          'val': 2.0,\n",
       "          'lbranch': None,\n",
       "          'rbranch': None},\n",
       "         'rbranch': {'attribute': 6,\n",
       "          'val': -73.0,\n",
       "          'lbranch': {'attribute': 4,\n",
       "           'val': -64.0,\n",
       "           'lbranch': {'attribute': 0,\n",
       "            'val': -49.0,\n",
       "            'lbranch': {'attribute': 'leaf',\n",
       "             'val': 3.0,\n",
       "             'lbranch': None,\n",
       "             'rbranch': None},\n",
       "            'rbranch': {'attribute': 6,\n",
       "             'val': -84.0,\n",
       "             'lbranch': {'attribute': 'leaf',\n",
       "              'val': 3.0,\n",
       "              'lbranch': None,\n",
       "              'rbranch': None},\n",
       "             'rbranch': {'attribute': 'leaf',\n",
       "              'val': 2.0,\n",
       "              'lbranch': None,\n",
       "              'rbranch': None}}},\n",
       "           'rbranch': {'attribute': 'leaf',\n",
       "            'val': 3.0,\n",
       "            'lbranch': None,\n",
       "            'rbranch': None}},\n",
       "          'rbranch': {'attribute': 'leaf',\n",
       "           'val': 2.0,\n",
       "           'lbranch': None,\n",
       "           'rbranch': None}}}},\n",
       "       'rbranch': {'attribute': 6,\n",
       "        'val': -71.0,\n",
       "        'lbranch': {'attribute': 'leaf',\n",
       "         'val': 3.0,\n",
       "         'lbranch': None,\n",
       "         'rbranch': None},\n",
       "        'rbranch': {'attribute': 'leaf',\n",
       "         'val': 2.0,\n",
       "         'lbranch': None,\n",
       "         'rbranch': None}}},\n",
       "      'rbranch': {'attribute': 'leaf',\n",
       "       'val': 4.0,\n",
       "       'lbranch': None,\n",
       "       'rbranch': None}},\n",
       "     'rbranch': {'attribute': 'leaf',\n",
       "      'val': 2.0,\n",
       "      'lbranch': None,\n",
       "      'rbranch': None}}},\n",
       "   'rbranch': {'attribute': 3,\n",
       "    'val': -47.0,\n",
       "    'lbranch': {'attribute': 0,\n",
       "     'val': -42.0,\n",
       "     'lbranch': {'attribute': 'leaf',\n",
       "      'val': 3.0,\n",
       "      'lbranch': None,\n",
       "      'rbranch': None},\n",
       "     'rbranch': {'attribute': 2,\n",
       "      'val': -48.0,\n",
       "      'lbranch': {'attribute': 'leaf',\n",
       "       'val': 2.0,\n",
       "       'lbranch': None,\n",
       "       'rbranch': None},\n",
       "      'rbranch': {'attribute': 'leaf',\n",
       "       'val': 3.0,\n",
       "       'lbranch': None,\n",
       "       'rbranch': None}}},\n",
       "    'rbranch': {'attribute': 'leaf',\n",
       "     'val': 2.0,\n",
       "     'lbranch': None,\n",
       "     'rbranch': None}}}},\n",
       " 15)"
      ]
     },
     "execution_count": 4,
     "metadata": {},
     "output_type": "execute_result"
    }
   ],
   "source": [
    "tree = DecisionTree()\n",
    "tree.buildTree(data_clean)"
   ]
  },
  {
   "cell_type": "code",
   "execution_count": 7,
   "metadata": {},
   "outputs": [
    {
     "ename": "NameError",
     "evalue": "name 'xtest' is not defined",
     "output_type": "error",
     "traceback": [
      "\u001b[0;31m---------------------------------------------------------------------------\u001b[0m",
      "\u001b[0;31mNameError\u001b[0m                                 Traceback (most recent call last)",
      "\u001b[0;32m<ipython-input-7-6b779d026ad9>\u001b[0m in \u001b[0;36m<module>\u001b[0;34m\u001b[0m\n\u001b[0;32m----> 1\u001b[0;31m \u001b[0mtree\u001b[0m\u001b[0;34m.\u001b[0m\u001b[0mevaluate\u001b[0m\u001b[0;34m(\u001b[0m\u001b[0mxtest\u001b[0m\u001b[0;34m,\u001b[0m\u001b[0mytest\u001b[0m\u001b[0;34m)\u001b[0m\u001b[0;34m\u001b[0m\u001b[0;34m\u001b[0m\u001b[0m\n\u001b[0m",
      "\u001b[0;31mNameError\u001b[0m: name 'xtest' is not defined"
     ]
    }
   ],
   "source": [
    "tree.evaluate(xtest,ytest)"
   ]
  },
  {
   "cell_type": "code",
   "execution_count": 5,
   "metadata": {},
   "outputs": [
    {
     "name": "stdout",
     "output_type": "stream",
     "text": [
      "signal:0 val:-54.0\n",
      "├─ signal:4 val:-59.0\n",
      "|  ├─ signal:3 val:-55.0\n",
      "|  |  ├─ signal:2 val:-55.0\n",
      "|  |  |  ├─ leaf val:1.0\n",
      "|  |  |  └─ signal:6 val:-85.0\n",
      "|  |  |     ├─ signal:4 val:-62.0\n",
      "|  |  |     |  ├─ signal:5 val:-85.0\n",
      "|  |  |     |  |  ├─ signal:0 val:-56.0\n",
      "|  |  |     |  |  |  ├─ leaf val:4.0\n",
      "|  |  |     |  |  |  └─ leaf val:3.0\n",
      "|  |  |     |  |  └─ leaf val:1.0\n",
      "|  |  |     |  └─ leaf val:4.0\n",
      "|  |  |     └─ leaf val:1.0\n",
      "|  |  └─ signal:1 val:-50.0\n",
      "|  |     ├─ leaf val:3.0\n",
      "|  |     └─ signal:0 val:-58.0\n",
      "|  |        ├─ leaf val:3.0\n",
      "|  |        └─ leaf val:1.0\n",
      "|  └─ signal:4 val:-56.0\n",
      "|     ├─ signal:3 val:-58.0\n",
      "|     |  ├─ leaf val:4.0\n",
      "|     |  └─ leaf val:3.0\n",
      "|     └─ leaf val:4.0\n",
      "└─ signal:0 val:-44.0\n",
      "   ├─ signal:4 val:-70.0\n",
      "   |  ├─ signal:3 val:-48.0\n",
      "   |  |  ├─ signal:2 val:-57.0\n",
      "   |  |  |  ├─ signal:0 val:-50.0\n",
      "   |  |  |  |  ├─ leaf val:3.0\n",
      "   |  |  |  |  └─ leaf val:2.0\n",
      "   |  |  |  └─ leaf val:3.0\n",
      "   |  |  └─ signal:1 val:-58.0\n",
      "   |  |     ├─ signal:1 val:-59.0\n",
      "   |  |     |  ├─ leaf val:2.0\n",
      "   |  |     |  └─ leaf val:3.0\n",
      "   |  |     └─ leaf val:2.0\n",
      "   |  └─ signal:3 val:-39.0\n",
      "   |     ├─ signal:4 val:-53.0\n",
      "   |     |  ├─ signal:2 val:-53.0\n",
      "   |     |  |  ├─ signal:5 val:-77.0\n",
      "   |     |  |  |  ├─ signal:3 val:-48.0\n",
      "   |     |  |  |  |  ├─ signal:6 val:-76.0\n",
      "   |     |  |  |  |  |  ├─ leaf val:3.0\n",
      "   |     |  |  |  |  |  └─ signal:5 val:-85.0\n",
      "   |     |  |  |  |  |     ├─ leaf val:2.0\n",
      "   |     |  |  |  |  |     └─ leaf val:3.0\n",
      "   |     |  |  |  |  └─ signal:6 val:-77.0\n",
      "   |     |  |  |  |     ├─ signal:4 val:-68.0\n",
      "   |     |  |  |  |     |  ├─ leaf val:2.0\n",
      "   |     |  |  |  |     |  └─ signal:1 val:-55.0\n",
      "   |     |  |  |  |     |     ├─ signal:2 val:-55.0\n",
      "   |     |  |  |  |     |     |  ├─ leaf val:3.0\n",
      "   |     |  |  |  |     |     |  └─ signal:2 val:-54.0\n",
      "   |     |  |  |  |     |     |     ├─ signal:0 val:-45.0\n",
      "   |     |  |  |  |     |     |     |  ├─ leaf val:2.0\n",
      "   |     |  |  |  |     |     |     |  └─ leaf val:3.0\n",
      "   |     |  |  |  |     |     |     └─ leaf val:3.0\n",
      "   |     |  |  |  |     |     └─ leaf val:3.0\n",
      "   |     |  |  |  |     └─ signal:2 val:-54.0\n",
      "   |     |  |  |  |        ├─ leaf val:2.0\n",
      "   |     |  |  |  |        └─ signal:0 val:-45.0\n",
      "   |     |  |  |  |           ├─ leaf val:3.0\n",
      "   |     |  |  |  |           └─ leaf val:2.0\n",
      "   |     |  |  |  └─ signal:4 val:-67.0\n",
      "   |     |  |  |     ├─ leaf val:2.0\n",
      "   |     |  |  |     └─ signal:6 val:-73.0\n",
      "   |     |  |  |        ├─ signal:4 val:-64.0\n",
      "   |     |  |  |        |  ├─ signal:0 val:-49.0\n",
      "   |     |  |  |        |  |  ├─ leaf val:3.0\n",
      "   |     |  |  |        |  |  └─ signal:6 val:-84.0\n",
      "   |     |  |  |        |  |     ├─ leaf val:3.0\n",
      "   |     |  |  |        |  |     └─ leaf val:2.0\n",
      "   |     |  |  |        |  └─ leaf val:3.0\n",
      "   |     |  |  |        └─ leaf val:2.0\n",
      "   |     |  |  └─ signal:6 val:-71.0\n",
      "   |     |  |     ├─ leaf val:3.0\n",
      "   |     |  |     └─ leaf val:2.0\n",
      "   |     |  └─ leaf val:4.0\n",
      "   |     └─ leaf val:2.0\n",
      "   └─ signal:3 val:-47.0\n",
      "      ├─ signal:0 val:-42.0\n",
      "      |  ├─ leaf val:3.0\n",
      "      |  └─ signal:2 val:-48.0\n",
      "      |     ├─ leaf val:2.0\n",
      "      |     └─ leaf val:3.0\n",
      "      └─ leaf val:2.0\n"
     ]
    }
   ],
   "source": [
    "tree.visualize()"
   ]
  },
  {
   "cell_type": "code",
   "execution_count": 111,
   "metadata": {},
   "outputs": [],
   "source": [
    "data_clean = np.loadtxt('../data/wifi_db/clean_dataset.txt')"
   ]
  },
  {
   "cell_type": "code",
   "execution_count": 2,
   "metadata": {},
   "outputs": [
    {
     "data": {
      "text/plain": [
       "array([[-59., -53., -51., ..., -79., -87.,   4.],\n",
       "       [-66., -53., -59., ..., -81., -79.,   1.],\n",
       "       [-41., -57., -63., ..., -66., -65.,   2.],\n",
       "       ...,\n",
       "       [-57., -54., -56., ..., -79., -82.,   1.],\n",
       "       [-56., -52., -50., ..., -85., -88.,   3.],\n",
       "       [-46., -54., -47., ..., -80., -73.,   3.]])"
      ]
     },
     "execution_count": 2,
     "metadata": {},
     "output_type": "execute_result"
    }
   ],
   "source": [
    "data_noisy = np.loadtxt('../data/wifi_db/noisy_dataset.txt')\n",
    "data_noisy"
   ]
  },
  {
   "cell_type": "code",
   "execution_count": 3,
   "metadata": {},
   "outputs": [],
   "source": [
    "#result = cross_val(data_noisy,10)"
   ]
  },
  {
   "cell_type": "code",
   "execution_count": 4,
   "metadata": {},
   "outputs": [],
   "source": [
    "#tree.buildTree(data_noisy)"
   ]
  },
  {
   "cell_type": "code",
   "execution_count": 5,
   "metadata": {},
   "outputs": [],
   "source": [
    "train = data_noisy[:1800,:]\n",
    "test = data_noisy[1800:,:]"
   ]
  },
  {
   "cell_type": "code",
   "execution_count": 6,
   "metadata": {},
   "outputs": [],
   "source": [
    "decisiontree = DecisionTree()\n",
    "tree = decisiontree.buildTree(train)\n",
    "#decisiontree.visualize()"
   ]
  },
  {
   "cell_type": "code",
   "execution_count": 7,
   "metadata": {},
   "outputs": [],
   "source": [
    "xtest = test[:,:-1]\n",
    "ytest = test[:,-1]"
   ]
  },
  {
   "cell_type": "code",
   "execution_count": 8,
   "metadata": {},
   "outputs": [
    {
     "data": {
      "text/plain": [
       "{'confusionmatrix': array([[38.,  4.,  5.,  2.],\n",
       "        [ 6., 42.,  3.,  2.],\n",
       "        [ 2.,  3., 34.,  4.],\n",
       "        [ 6.,  7.,  4., 38.]]),\n",
       " 'precision': array([0.7755102 , 0.79245283, 0.79069767, 0.69090909]),\n",
       " 'recall': array([0.73076923, 0.75      , 0.73913043, 0.82608696]),\n",
       " 'F1score': array([0.75247525, 0.7706422 , 0.76404494, 0.75247525]),\n",
       " 'posClassRate': 0.76}"
      ]
     },
     "execution_count": 8,
     "metadata": {},
     "output_type": "execute_result"
    }
   ],
   "source": [
    "decisiontree.evaluate(xtest,ytest)"
   ]
  },
  {
   "cell_type": "code",
   "execution_count": 21,
   "metadata": {},
   "outputs": [],
   "source": [
    "decisiontree.prune(train,test)"
   ]
  },
  {
   "cell_type": "code",
   "execution_count": 22,
   "metadata": {},
   "outputs": [
    {
     "data": {
      "text/plain": [
       "{'confusionmatrix': array([[44.,  1.,  2.,  3.],\n",
       "        [ 3., 47.,  4.,  1.],\n",
       "        [ 3.,  2., 39.,  2.],\n",
       "        [ 2.,  6.,  1., 40.]]),\n",
       " 'precision': array([0.88      , 0.85454545, 0.84782609, 0.81632653]),\n",
       " 'recall': array([0.84615385, 0.83928571, 0.84782609, 0.86956522]),\n",
       " 'F1score': array([0.8627451 , 0.84684685, 0.84782609, 0.84210526]),\n",
       " 'posClassRate': 0.85}"
      ]
     },
     "execution_count": 22,
     "metadata": {},
     "output_type": "execute_result"
    }
   ],
   "source": [
    "decisiontree.evaluate(xtest,ytest)"
   ]
  },
  {
   "cell_type": "code",
   "execution_count": 23,
   "metadata": {},
   "outputs": [
    {
     "data": {
      "text/plain": [
       "15"
      ]
     },
     "execution_count": 23,
     "metadata": {},
     "output_type": "execute_result"
    }
   ],
   "source": [
    "decisiontree.depth"
   ]
  },
  {
   "cell_type": "code",
   "execution_count": 24,
   "metadata": {},
   "outputs": [
    {
     "data": {
      "text/plain": [
       "array([[44.,  1.,  2.,  3.],\n",
       "       [ 3., 47.,  4.,  1.],\n",
       "       [ 3.,  2., 39.,  2.],\n",
       "       [ 2.,  6.,  1., 40.]])"
      ]
     },
     "execution_count": 24,
     "metadata": {},
     "output_type": "execute_result"
    }
   ],
   "source": [
    "decisiontree.statistics['confusionmatrix']"
   ]
  },
  {
   "cell_type": "code",
   "execution_count": 297,
   "metadata": {},
   "outputs": [
    {
     "name": "stdout",
     "output_type": "stream",
     "text": [
      "signal:0 val:-54.0\n",
      "├─ signal:4 val:-58.0\n",
      "|  ├─ signal:3 val:-57.0\n",
      "|  |  ├─ signal:1 val:-53.0\n",
      "|  |  |  ├─ signal:2 val:-51.0\n",
      "|  |  |  |  ├─ signal:5 val:-78.0\n",
      "|  |  |  |  |  ├─ signal:1 val:-54.0\n",
      "|  |  |  |  |  |  ├─ signal:6 val:-86.0\n",
      "|  |  |  |  |  |  |  ├─ signal:4 val:-76.0\n",
      "|  |  |  |  |  |  |  |  ├─ leaf val:1.0\n",
      "|  |  |  |  |  |  |  |  └─ signal:4 val:-70.0\n",
      "|  |  |  |  |  |  |  |     ├─ signal:2 val:-61.0\n",
      "|  |  |  |  |  |  |  |     |  ├─ signal:4 val:-73.0\n",
      "|  |  |  |  |  |  |  |     |  |  ├─ signal:0 val:-71.0\n",
      "|  |  |  |  |  |  |  |     |  |  |  ├─ leaf val:4.0\n",
      "|  |  |  |  |  |  |  |     |  |  |  └─ leaf val:1.0\n",
      "|  |  |  |  |  |  |  |     |  |  └─ leaf val:1.0\n",
      "|  |  |  |  |  |  |  |     |  └─ leaf val:1.0\n",
      "|  |  |  |  |  |  |  |     └─ signal:6 val:-87.0\n",
      "|  |  |  |  |  |  |  |        ├─ leaf val:1.0\n",
      "|  |  |  |  |  |  |  |        └─ leaf val:1.0\n",
      "|  |  |  |  |  |  |  └─ signal:6 val:-82.0\n",
      "|  |  |  |  |  |  |     ├─ signal:4 val:-68.0\n",
      "|  |  |  |  |  |  |     |  ├─ signal:1 val:-57.0\n",
      "|  |  |  |  |  |  |     |  |  ├─ leaf val:1.0\n",
      "|  |  |  |  |  |  |     |  |  └─ signal:2 val:-58.0\n",
      "|  |  |  |  |  |  |     |  |     ├─ signal:3 val:-69.0\n",
      "|  |  |  |  |  |  |     |  |     |  ├─ leaf val:1.0\n",
      "|  |  |  |  |  |  |     |  |     |  └─ signal:4 val:-77.0\n",
      "|  |  |  |  |  |  |     |  |     |     ├─ leaf val:3.0\n",
      "|  |  |  |  |  |  |     |  |     |     └─ leaf val:1.0\n",
      "|  |  |  |  |  |  |     |  |     └─ leaf val:1.0\n",
      "|  |  |  |  |  |  |     |  └─ leaf val:1.0\n",
      "|  |  |  |  |  |  |     └─ signal:3 val:-58.0\n",
      "|  |  |  |  |  |  |        ├─ leaf val:1.0\n",
      "|  |  |  |  |  |  |        └─ leaf val:1.0\n",
      "|  |  |  |  |  |  └─ signal:3 val:-64.0\n",
      "|  |  |  |  |  |     ├─ leaf val:1.0\n",
      "|  |  |  |  |  |     └─ leaf val:1.0\n",
      "|  |  |  |  |  └─ signal:4 val:-65.0\n",
      "|  |  |  |  |     ├─ signal:6 val:-81.0\n",
      "|  |  |  |  |     |  ├─ leaf val:1.0\n",
      "|  |  |  |  |     |  └─ signal:4 val:-70.0\n",
      "|  |  |  |  |     |     ├─ leaf val:3.0\n",
      "|  |  |  |  |     |     └─ leaf val:1.0\n",
      "|  |  |  |  |     └─ leaf val:1.0\n",
      "|  |  |  |  └─ leaf val:4.0\n",
      "|  |  |  └─ signal:6 val:-85.0\n",
      "|  |  |     ├─ leaf val:1.0\n",
      "|  |  |     └─ signal:4 val:-66.0\n",
      "|  |  |        ├─ leaf val:1.0\n",
      "|  |  |        └─ leaf val:1.0\n",
      "|  |  └─ signal:5 val:-80.0\n",
      "|  |     ├─ leaf val:3.0\n",
      "|  |     └─ leaf val:1.0\n",
      "|  └─ signal:3 val:-59.0\n",
      "|     ├─ signal:6 val:-86.0\n",
      "|     |  ├─ signal:0 val:-57.0\n",
      "|     |  |  ├─ signal:3 val:-64.0\n",
      "|     |  |  |  ├─ signal:2 val:-58.0\n",
      "|     |  |  |  |  ├─ leaf val:1.0\n",
      "|     |  |  |  |  └─ signal:4 val:-43.0\n",
      "|     |  |  |  |     ├─ signal:5 val:-86.0\n",
      "|     |  |  |  |     |  ├─ leaf val:4.0\n",
      "|     |  |  |  |     |  └─ signal:4 val:-49.0\n",
      "|     |  |  |  |     |     ├─ leaf val:4.0\n",
      "|     |  |  |  |     |     └─ leaf val:4.0\n",
      "|     |  |  |  |     └─ leaf val:4.0\n",
      "|     |  |  |  └─ signal:0 val:-61.0\n",
      "|     |  |  |     ├─ signal:0 val:-64.0\n",
      "|     |  |  |     |  ├─ signal:0 val:-68.0\n",
      "|     |  |  |     |  |  ├─ leaf val:1.0\n",
      "|     |  |  |     |  |  └─ signal:4 val:-51.0\n",
      "|     |  |  |     |  |     ├─ leaf val:1.0\n",
      "|     |  |  |     |  |     └─ leaf val:4.0\n",
      "|     |  |  |     |  └─ leaf val:4.0\n",
      "|     |  |  |     └─ signal:6 val:-89.0\n",
      "|     |  |  |        ├─ leaf val:4.0\n",
      "|     |  |  |        └─ signal:5 val:-86.0\n",
      "|     |  |  |           ├─ signal:3 val:-62.0\n",
      "|     |  |  |           |  ├─ leaf val:3.0\n",
      "|     |  |  |           |  └─ leaf val:4.0\n",
      "|     |  |  |           └─ signal:2 val:-52.0\n",
      "|     |  |  |              ├─ leaf val:4.0\n",
      "|     |  |  |              └─ signal:3 val:-62.0\n",
      "|     |  |  |                 ├─ leaf val:1.0\n",
      "|     |  |  |                 └─ leaf val:4.0\n",
      "|     |  |  └─ signal:4 val:-50.0\n",
      "|     |  |     ├─ leaf val:2.0\n",
      "|     |  |     └─ leaf val:4.0\n",
      "|     |  └─ signal:1 val:-49.0\n",
      "|     |     ├─ signal:3 val:-65.0\n",
      "|     |     |  ├─ signal:0 val:-60.0\n",
      "|     |     |  |  ├─ leaf val:4.0\n",
      "|     |     |  |  └─ leaf val:4.0\n",
      "|     |     |  └─ signal:4 val:-51.0\n",
      "|     |     |     ├─ leaf val:4.0\n",
      "|     |     |     └─ leaf val:4.0\n",
      "|     |     └─ leaf val:2.0\n",
      "|     └─ signal:2 val:-50.0\n",
      "|        ├─ signal:1 val:-57.0\n",
      "|        |  ├─ leaf val:4.0\n",
      "|        |  └─ signal:4 val:-46.0\n",
      "|        |     ├─ signal:1 val:-53.0\n",
      "|        |     |  ├─ leaf val:4.0\n",
      "|        |     |  └─ signal:4 val:-54.0\n",
      "|        |     |     ├─ leaf val:3.0\n",
      "|        |     |     └─ signal:6 val:-90.0\n",
      "|        |     |        ├─ leaf val:3.0\n",
      "|        |     |        └─ signal:1 val:-51.0\n",
      "|        |     |           ├─ leaf val:4.0\n",
      "|        |     |           └─ leaf val:4.0\n",
      "|        |     └─ leaf val:4.0\n",
      "|        └─ signal:1 val:-52.0\n",
      "|           ├─ leaf val:4.0\n",
      "|           └─ signal:1 val:-49.0\n",
      "|              ├─ signal:5 val:-86.0\n",
      "|              |  ├─ leaf val:4.0\n",
      "|              |  └─ leaf val:4.0\n",
      "|              └─ leaf val:1.0\n",
      "└─ signal:0 val:-44.0\n",
      "   ├─ signal:4 val:-70.0\n",
      "   |  ├─ signal:3 val:-48.0\n",
      "   |  |  ├─ leaf val:3.0\n",
      "   |  |  └─ leaf val:2.0\n",
      "   |  └─ signal:3 val:-39.0\n",
      "   |     ├─ signal:2 val:-53.0\n",
      "   |     |  ├─ signal:5 val:-77.0\n",
      "   |     |  |  ├─ signal:5 val:-85.0\n",
      "   |     |  |  |  ├─ signal:6 val:-81.0\n",
      "   |     |  |  |  |  ├─ leaf val:3.0\n",
      "   |     |  |  |  |  └─ leaf val:2.0\n",
      "   |     |  |  |  └─ signal:3 val:-46.0\n",
      "   |     |  |  |     ├─ signal:4 val:-57.0\n",
      "   |     |  |  |     |  ├─ signal:6 val:-77.0\n",
      "   |     |  |  |     |  |  ├─ leaf val:3.0\n",
      "   |     |  |  |     |  |  └─ leaf val:3.0\n",
      "   |     |  |  |     |  └─ leaf val:3.0\n",
      "   |     |  |  |     └─ signal:1 val:-56.0\n",
      "   |     |  |  |        ├─ signal:0 val:-48.0\n",
      "   |     |  |  |        |  ├─ leaf val:3.0\n",
      "   |     |  |  |        |  └─ leaf val:2.0\n",
      "   |     |  |  |        └─ leaf val:3.0\n",
      "   |     |  |  └─ signal:4 val:-66.0\n",
      "   |     |  |     ├─ leaf val:2.0\n",
      "   |     |  |     └─ leaf val:3.0\n",
      "   |     |  └─ signal:4 val:-53.0\n",
      "   |     |     ├─ signal:5 val:-82.0\n",
      "   |     |     |  ├─ signal:4 val:-69.0\n",
      "   |     |     |  |  ├─ leaf val:2.0\n",
      "   |     |     |  |  └─ signal:4 val:-65.0\n",
      "   |     |     |  |     ├─ signal:3 val:-49.0\n",
      "   |     |     |  |     |  ├─ leaf val:3.0\n",
      "   |     |     |  |     |  └─ leaf val:3.0\n",
      "   |     |     |  |     └─ signal:3 val:-49.0\n",
      "   |     |     |  |        ├─ signal:2 val:-46.0\n",
      "   |     |     |  |        |  ├─ signal:3 val:-51.0\n",
      "   |     |     |  |        |  |  ├─ leaf val:3.0\n",
      "   |     |     |  |        |  |  └─ signal:6 val:-81.0\n",
      "   |     |     |  |        |  |     ├─ leaf val:3.0\n",
      "   |     |     |  |        |  |     └─ signal:2 val:-51.0\n",
      "   |     |     |  |        |  |        ├─ leaf val:3.0\n",
      "   |     |     |  |        |  |        └─ leaf val:3.0\n",
      "   |     |     |  |        |  └─ leaf val:3.0\n",
      "   |     |     |  |        └─ signal:4 val:-62.0\n",
      "   |     |     |  |           ├─ signal:6 val:-84.0\n",
      "   |     |     |  |           |  ├─ leaf val:3.0\n",
      "   |     |     |  |           |  └─ leaf val:3.0\n",
      "   |     |     |  |           └─ signal:3 val:-44.0\n",
      "   |     |     |  |              ├─ leaf val:3.0\n",
      "   |     |     |  |              └─ leaf val:3.0\n",
      "   |     |     |  └─ signal:6 val:-71.0\n",
      "   |     |     |     ├─ signal:3 val:-52.0\n",
      "   |     |     |     |  ├─ signal:1 val:-55.0\n",
      "   |     |     |     |  |  ├─ signal:4 val:-62.0\n",
      "   |     |     |     |  |  |  ├─ leaf val:3.0\n",
      "   |     |     |     |  |  |  └─ signal:2 val:-50.0\n",
      "   |     |     |     |  |  |     ├─ leaf val:3.0\n",
      "   |     |     |     |  |  |     └─ leaf val:2.0\n",
      "   |     |     |     |  |  └─ signal:2 val:-52.0\n",
      "   |     |     |     |  |     ├─ leaf val:3.0\n",
      "   |     |     |     |  |     └─ leaf val:3.0\n",
      "   |     |     |     |  └─ signal:6 val:-75.0\n",
      "   |     |     |     |     ├─ signal:0 val:-49.0\n",
      "   |     |     |     |     |  ├─ signal:1 val:-47.0\n",
      "   |     |     |     |     |  |  ├─ signal:0 val:-50.0\n",
      "   |     |     |     |     |  |  |  ├─ leaf val:3.0\n",
      "   |     |     |     |     |  |  |  └─ signal:3 val:-49.0\n",
      "   |     |     |     |     |  |  |     ├─ leaf val:3.0\n",
      "   |     |     |     |     |  |  |     └─ leaf val:3.0\n",
      "   |     |     |     |     |  |  └─ leaf val:4.0\n",
      "   |     |     |     |     |  └─ leaf val:3.0\n",
      "   |     |     |     |     └─ leaf val:3.0\n",
      "   |     |     |     └─ leaf val:2.0\n",
      "   |     |     └─ leaf val:4.0\n",
      "   |     └─ leaf val:2.0\n",
      "   └─ signal:3 val:-48.0\n",
      "      ├─ leaf val:2.0\n",
      "      └─ signal:1 val:-55.0\n",
      "         ├─ signal:6 val:-68.0\n",
      "         |  ├─ signal:2 val:-50.0\n",
      "         |  |  ├─ signal:5 val:-68.0\n",
      "         |  |  |  ├─ signal:5 val:-70.0\n",
      "         |  |  |  |  ├─ signal:2 val:-56.0\n",
      "         |  |  |  |  |  ├─ signal:1 val:-56.0\n",
      "         |  |  |  |  |  |  ├─ signal:5 val:-75.0\n",
      "         |  |  |  |  |  |  |  ├─ signal:2 val:-60.0\n",
      "         |  |  |  |  |  |  |  |  ├─ signal:0 val:-10.0\n",
      "         |  |  |  |  |  |  |  |  |  ├─ signal:1 val:-57.0\n",
      "         |  |  |  |  |  |  |  |  |  |  ├─ leaf val:2.0\n",
      "         |  |  |  |  |  |  |  |  |  |  └─ leaf val:3.0\n",
      "         |  |  |  |  |  |  |  |  |  └─ leaf val:3.0\n",
      "         |  |  |  |  |  |  |  |  └─ leaf val:2.0\n",
      "         |  |  |  |  |  |  |  └─ leaf val:2.0\n",
      "         |  |  |  |  |  |  └─ signal:5 val:-73.0\n",
      "         |  |  |  |  |  |     ├─ leaf val:2.0\n",
      "         |  |  |  |  |  |     └─ signal:0 val:-35.0\n",
      "         |  |  |  |  |  |        ├─ leaf val:2.0\n",
      "         |  |  |  |  |  |        └─ leaf val:3.0\n",
      "         |  |  |  |  |  └─ leaf val:2.0\n",
      "         |  |  |  |  └─ signal:3 val:-42.0\n",
      "         |  |  |  |     ├─ leaf val:3.0\n",
      "         |  |  |  |     └─ signal:0 val:-35.0\n",
      "         |  |  |  |        ├─ leaf val:2.0\n",
      "         |  |  |  |        └─ leaf val:2.0\n",
      "         |  |  |  └─ leaf val:2.0\n",
      "         |  |  └─ leaf val:2.0\n",
      "         |  └─ signal:4 val:-68.0\n",
      "         |     ├─ leaf val:2.0\n",
      "         |     └─ signal:2 val:-53.0\n",
      "         |        ├─ signal:4 val:-66.0\n",
      "         |        |  ├─ leaf val:4.0\n",
      "         |        |  └─ leaf val:2.0\n",
      "         |        └─ signal:0 val:-35.0\n",
      "         |           ├─ signal:3 val:-37.0\n",
      "         |           |  ├─ leaf val:4.0\n",
      "         |           |  └─ leaf val:1.0\n",
      "         |           └─ leaf val:3.0\n",
      "         └─ signal:3 val:-41.0\n",
      "            ├─ signal:0 val:-38.0\n",
      "            |  ├─ signal:4 val:-58.0\n",
      "            |  |  ├─ signal:4 val:-75.0\n",
      "            |  |  |  ├─ signal:2 val:-54.0\n",
      "            |  |  |  |  ├─ leaf val:2.0\n",
      "            |  |  |  |  └─ leaf val:1.0\n",
      "            |  |  |  └─ leaf val:2.0\n",
      "            |  |  └─ leaf val:1.0\n",
      "            |  └─ signal:4 val:-64.0\n",
      "            |     ├─ signal:4 val:-66.0\n",
      "            |     |  ├─ leaf val:2.0\n",
      "            |     |  └─ signal:3 val:-42.0\n",
      "            |     |     ├─ leaf val:2.0\n",
      "            |     |     └─ leaf val:3.0\n",
      "            |     └─ leaf val:2.0\n",
      "            └─ signal:2 val:-57.0\n",
      "               ├─ signal:0 val:-41.0\n",
      "               |  ├─ signal:4 val:-66.0\n",
      "               |  |  ├─ leaf val:1.0\n",
      "               |  |  └─ signal:5 val:-65.0\n",
      "               |  |     ├─ leaf val:2.0\n",
      "               |  |     └─ leaf val:1.0\n",
      "               |  └─ leaf val:2.0\n",
      "               └─ signal:2 val:-55.0\n",
      "                  ├─ signal:5 val:-72.0\n",
      "                  |  ├─ signal:1 val:-54.0\n",
      "                  |  |  ├─ signal:0 val:-38.0\n",
      "                  |  |  |  ├─ signal:2 val:-56.0\n",
      "                  |  |  |  |  ├─ leaf val:4.0\n",
      "                  |  |  |  |  └─ leaf val:2.0\n",
      "                  |  |  |  └─ leaf val:4.0\n",
      "                  |  |  └─ signal:4 val:-62.0\n",
      "                  |  |     ├─ leaf val:2.0\n",
      "                  |  |     └─ leaf val:4.0\n",
      "                  |  └─ signal:1 val:-53.0\n",
      "                  |     ├─ leaf val:2.0\n",
      "                  |     └─ signal:4 val:-64.0\n",
      "                  |        ├─ signal:6 val:-64.0\n",
      "                  |        |  ├─ leaf val:4.0\n",
      "                  |        |  └─ leaf val:2.0\n",
      "                  |        └─ leaf val:2.0\n",
      "                  └─ signal:3 val:-38.0\n",
      "                     ├─ signal:0 val:-38.0\n",
      "                     |  ├─ signal:0 val:-39.0\n",
      "                     |  |  ├─ signal:1 val:-52.0\n",
      "                     |  |  |  ├─ signal:6 val:-65.0\n",
      "                     |  |  |  |  ├─ signal:2 val:-54.0\n",
      "                     |  |  |  |  |  ├─ signal:1 val:-54.0\n",
      "                     |  |  |  |  |  |  ├─ leaf val:2.0\n",
      "                     |  |  |  |  |  |  └─ leaf val:4.0\n",
      "                     |  |  |  |  |  └─ leaf val:2.0\n",
      "                     |  |  |  |  └─ leaf val:4.0\n",
      "                     |  |  |  └─ leaf val:2.0\n",
      "                     |  |  └─ leaf val:4.0\n",
      "                     |  └─ leaf val:2.0\n",
      "                     └─ signal:4 val:-60.0\n",
      "                        ├─ leaf val:2.0\n",
      "                        └─ signal:3 val:-36.0\n",
      "                           ├─ leaf val:3.0\n",
      "                           └─ leaf val:2.0\n"
     ]
    }
   ],
   "source": [
    "#decisiontree.visualize()"
   ]
  },
  {
   "cell_type": "code",
   "execution_count": null,
   "metadata": {},
   "outputs": [],
   "source": []
  },
  {
   "cell_type": "code",
   "execution_count": 1,
   "metadata": {},
   "outputs": [],
   "source": [
    "##Exploring Error"
   ]
  },
  {
   "cell_type": "code",
   "execution_count": 2,
   "metadata": {},
   "outputs": [],
   "source": [
    "data_clean = np.loadtxt('../data/wifi_db/clean_dataset.txt')"
   ]
  },
  {
   "cell_type": "code",
   "execution_count": 3,
   "metadata": {},
   "outputs": [],
   "source": [
    "splits = crossValidation_split(data_clean,10)"
   ]
  },
  {
   "cell_type": "code",
   "execution_count": 11,
   "metadata": {},
   "outputs": [],
   "source": [
    "mask = np.ones(data_clean.shape[0], dtype=bool)\n",
    "mask[splits[4]] = False\n",
    "train = data_clean[mask,:]\n",
    "test = data_clean[splits[4],:]"
   ]
  },
  {
   "cell_type": "code",
   "execution_count": 12,
   "metadata": {},
   "outputs": [
    {
     "data": {
      "text/plain": [
       "array([[-41., -58., -60., ..., -82., -74.,   2.],\n",
       "       [-53., -59., -51., ..., -78., -77.,   3.],\n",
       "       [-60., -57., -60., ..., -82., -80.,   1.],\n",
       "       ...,\n",
       "       [-42., -54., -51., ..., -70., -65.,   2.],\n",
       "       [-49., -53., -55., ..., -81., -93.,   3.],\n",
       "       [-63., -56., -61., ..., -83., -87.,   1.]])"
      ]
     },
     "execution_count": 12,
     "metadata": {},
     "output_type": "execute_result"
    }
   ],
   "source": [
    "test"
   ]
  },
  {
   "cell_type": "code",
   "execution_count": 13,
   "metadata": {},
   "outputs": [
    {
     "data": {
      "text/plain": [
       "array([2., 3., 1., 1., 4., 2., 1., 4., 2., 2., 4., 1., 3., 1., 4., 3., 4.,\n",
       "       4., 3., 3., 4., 2., 4., 2., 2., 1., 4., 3., 1., 2., 3., 1., 2., 2.,\n",
       "       2., 2., 1., 3., 1., 3., 2., 2., 4., 2., 2., 2., 1., 4., 3., 1., 3.,\n",
       "       2., 2., 2., 2., 3., 4., 2., 1., 4., 2., 1., 1., 3., 4., 1., 1., 4.,\n",
       "       1., 4., 2., 3., 4., 3., 1., 2., 1., 1., 2., 3., 4., 3., 4., 3., 2.,\n",
       "       4., 2., 3., 2., 1., 4., 3., 2., 1., 2., 3., 2., 3., 2., 1., 2., 3.,\n",
       "       4., 1., 1., 4., 4., 1., 3., 3., 3., 4., 3., 3., 1., 2., 1., 3., 4.,\n",
       "       4., 4., 3., 2., 2., 1., 4., 2., 2., 2., 4., 3., 4., 3., 4., 1., 1.,\n",
       "       1., 3., 1., 3., 4., 3., 2., 3., 3., 4., 4., 4., 2., 4., 3., 1., 3.,\n",
       "       1., 4., 3., 4., 1., 1., 4., 1., 2., 3., 1., 3., 4., 2., 2., 1., 2.,\n",
       "       2., 4., 1., 2., 4., 2., 1., 4., 4., 3., 2., 1., 4., 2., 1., 2., 2.,\n",
       "       4., 3., 1., 1., 4., 1., 3., 4., 1., 4., 2., 3., 1.])"
      ]
     },
     "execution_count": 13,
     "metadata": {},
     "output_type": "execute_result"
    }
   ],
   "source": [
    "test[:,-1]"
   ]
  },
  {
   "cell_type": "code",
   "execution_count": 14,
   "metadata": {},
   "outputs": [],
   "source": [
    "decisiontree = DecisionTree()\n",
    "tree = decisiontree.buildTree(train)"
   ]
  },
  {
   "cell_type": "code",
   "execution_count": 15,
   "metadata": {},
   "outputs": [],
   "source": [
    "        xtest = test[:,:-1]\n",
    "        ytest = test[:,-1]"
   ]
  },
  {
   "cell_type": "code",
   "execution_count": 16,
   "metadata": {},
   "outputs": [
    {
     "data": {
      "text/plain": [
       "{'confusionmatrix': array([[50.,  0.,  0.,  1.],\n",
       "        [ 0., 53.,  2.,  0.],\n",
       "        [ 0.,  1., 44.,  0.],\n",
       "        [ 0.,  0.,  0., 49.]]),\n",
       " 'precision': array([0.98039216, 0.96363636, 0.97777778, 1.        ]),\n",
       " 'recall': array([1.        , 0.98148148, 0.95652174, 0.98      ]),\n",
       " 'F1score': array([0.99009901, 0.97247706, 0.96703297, 0.98989899]),\n",
       " 'posClassRate': 0.98}"
      ]
     },
     "execution_count": 16,
     "metadata": {},
     "output_type": "execute_result"
    }
   ],
   "source": [
    "decisiontree.evaluate(xtest,ytest)"
   ]
  },
  {
   "cell_type": "code",
   "execution_count": 17,
   "metadata": {},
   "outputs": [
    {
     "name": "stderr",
     "output_type": "stream",
     "text": [
      "../src/DecisionTree.py:167: RuntimeWarning: invalid value encountered in true_divide\n",
      "  precision = np.divide(np.diag(self.confusionmatrix),np.sum(self.confusionmatrix,axis = 1))\n"
     ]
    }
   ],
   "source": [
    "decisiontree.prune(train,test)"
   ]
  },
  {
   "cell_type": "code",
   "execution_count": 18,
   "metadata": {},
   "outputs": [],
   "source": [
    "data = get_data('clean_dataset.txt')\n",
    "data = data[data[:,-1] != 3]"
   ]
  },
  {
   "cell_type": "code",
   "execution_count": 19,
   "metadata": {},
   "outputs": [
    {
     "data": {
      "text/plain": [
       "array([[-63., -59., -61., ..., -90., -82.,   1.],\n",
       "       [-60., -59., -51., ..., -88., -88.,   4.],\n",
       "       [-63., -58., -65., ..., -81., -88.,   1.],\n",
       "       ...,\n",
       "       [-59., -51., -54., ..., -87., -88.,   4.],\n",
       "       [-39., -53., -51., ..., -72., -70.,   2.],\n",
       "       [-19., -59., -67., ..., -66., -74.,   2.]])"
      ]
     },
     "execution_count": 19,
     "metadata": {},
     "output_type": "execute_result"
    }
   ],
   "source": [
    "data"
   ]
  },
  {
   "cell_type": "code",
   "execution_count": 45,
   "metadata": {},
   "outputs": [],
   "source": [
    " small = load_testdata(\"clean_dataset_small.txt\")"
   ]
  },
  {
   "cell_type": "code",
   "execution_count": 48,
   "metadata": {},
   "outputs": [
    {
     "name": "stdout",
     "output_type": "stream",
     "text": [
      "Depth of the tree: 5\n",
      "\n",
      "signal:2 val:-52.0\n",
      "├─ signal:0 val:-43.0\n",
      "|  ├─ signal:2 val:-54.0\n",
      "|  |  ├─ signal:0 val:-44.0\n",
      "|  |  |  ├─ leaf val:1.0\n",
      "|  |  |  └─ leaf val:2.0\n",
      "|  |  └─ leaf val:3.0\n",
      "|  └─ leaf val:2.0\n",
      "└─ leaf val:3.0\n"
     ]
    }
   ],
   "source": [
    "tree = DecisionTree(small)\n",
    "tree.visualize()"
   ]
  },
  {
   "cell_type": "code",
   "execution_count": 49,
   "metadata": {},
   "outputs": [
    {
     "data": {
      "text/plain": [
       "{'attribute': 2,\n",
       " 'val': -52.0,\n",
       " 'lbranch': {'attribute': 0,\n",
       "  'val': -43.0,\n",
       "  'lbranch': {'attribute': 2,\n",
       "   'val': -54.0,\n",
       "   'lbranch': {'attribute': 0,\n",
       "    'val': -44.0,\n",
       "    'lbranch': {'attribute': 'leaf',\n",
       "     'val': 1.0,\n",
       "     'lbranch': None,\n",
       "     'rbranch': None},\n",
       "    'rbranch': {'attribute': 'leaf',\n",
       "     'val': 2.0,\n",
       "     'lbranch': None,\n",
       "     'rbranch': None}},\n",
       "   'rbranch': {'attribute': 'leaf',\n",
       "    'val': 3.0,\n",
       "    'lbranch': None,\n",
       "    'rbranch': None}},\n",
       "  'rbranch': {'attribute': 'leaf',\n",
       "   'val': 2.0,\n",
       "   'lbranch': None,\n",
       "   'rbranch': None}},\n",
       " 'rbranch': {'attribute': 'leaf',\n",
       "  'val': 3.0,\n",
       "  'lbranch': None,\n",
       "  'rbranch': None}}"
      ]
     },
     "execution_count": 49,
     "metadata": {},
     "output_type": "execute_result"
    }
   ],
   "source": [
    "tree.tree"
   ]
  },
  {
   "cell_type": "code",
   "execution_count": null,
   "metadata": {},
   "outputs": [],
   "source": []
  }
 ],
 "metadata": {
  "kernelspec": {
   "display_name": "Python 3",
   "language": "python",
   "name": "python3"
  },
  "language_info": {
   "codemirror_mode": {
    "name": "ipython",
    "version": 3
   },
   "file_extension": ".py",
   "mimetype": "text/x-python",
   "name": "python",
   "nbconvert_exporter": "python",
   "pygments_lexer": "ipython3",
   "version": "3.8.5"
  }
 },
 "nbformat": 4,
 "nbformat_minor": 4
}
