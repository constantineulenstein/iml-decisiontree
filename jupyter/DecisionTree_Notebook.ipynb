{
 "cells": [
  {
   "cell_type": "markdown",
   "metadata": {},
   "source": [
    "# Decision Tree WIFI Signal Classification\n",
    "\n",
    "## Description:\n",
    "\n",
    "This note book is intended deep dives into the additional functionality of the Decision Tree algorithm. To run the code on the clean and noisy dataset we refer to the main method in the parent directory. The code in this jupyter notebook can be used to:\n",
    "\n",
    "- Build individual Trees\n",
    "- Evaluate individual Trees\n",
    "- Visualize individual Trees\n",
    "- Prune individual Trees\n",
    "- Run K-Fold Cross Validation generating K trees and returning average statistics\n",
    "\n"
   ]
  },
  {
   "cell_type": "markdown",
   "metadata": {},
   "source": [
    "## The algorithm:\n",
    "We begin by importing the necessary libraries and modules"
   ]
  },
  {
   "cell_type": "code",
   "execution_count": 1,
   "metadata": {},
   "outputs": [],
   "source": [
    "import sys\n",
    "import os\n",
    "import numpy as np\n",
    "\n",
    "sys.path.append('../')\n",
    "os.getcwd()\n",
    "\n",
    "from src.utils import *\n",
    "from src.validation import *\n",
    "from src.DecisionTree import *\n",
    "\n",
    "%load_ext autoreload\n",
    "%autoreload 2"
   ]
  },
  {
   "cell_type": "markdown",
   "metadata": {},
   "source": [
    "Next we import the data that we want to analyse. Make sure you get the data with the get_data function which automatically shuffles the data. If you want to run the algorithm on different data, make sure the data is in the data/wifi_db folder and give the name of the file to the get_data function. We split our data into a train and a test set in a ratio 90% to 10%. "
   ]
  },
  {
   "cell_type": "code",
   "execution_count": 2,
   "metadata": {},
   "outputs": [],
   "source": [
    "data = get_data('clean_dataset.txt')\n",
    "train = data[:1600,:]\n",
    "val = data[1600:1800]\n",
    "test = data[1800:,:]"
   ]
  },
  {
   "cell_type": "markdown",
   "metadata": {},
   "source": [
    "Next we build are decision tree"
   ]
  },
  {
   "cell_type": "code",
   "execution_count": 3,
   "metadata": {},
   "outputs": [],
   "source": [
    "decisiontree = DecisionTree()\n",
    "tree = decisiontree.buildTree(train)"
   ]
  },
  {
   "cell_type": "markdown",
   "metadata": {},
   "source": [
    "Now we can visualize our tree with the following function:"
   ]
  },
  {
   "cell_type": "code",
   "execution_count": 4,
   "metadata": {},
   "outputs": [
    {
     "name": "stdout",
     "output_type": "stream",
     "text": [
      "Depth of the tree: 13\n",
      "\n",
      "signal:0 val:-53.5\n",
      "├─ signal:4 val:-58.5\n",
      "|  ├─ signal:3 val:-55.5\n",
      "|  |  ├─ signal:2 val:-51.5\n",
      "|  |  |  ├─ signal:2 val:-54.5\n",
      "|  |  |  |  ├─ signal:4 val:-60.5\n",
      "|  |  |  |  |  ├─ signal:4 val:-61.0\n",
      "|  |  |  |  |  |  ├─ leaf val:1.0\n",
      "|  |  |  |  |  |  └─ leaf val:4.0\n",
      "|  |  |  |  |  └─ leaf val:1.0\n",
      "|  |  |  |  └─ signal:5 val:-86.5\n",
      "|  |  |  |     ├─ signal:1 val:-53.0\n",
      "|  |  |  |     |  ├─ leaf val:4.0\n",
      "|  |  |  |     |  └─ leaf val:1.0\n",
      "|  |  |  |     └─ signal:0 val:-54.0\n",
      "|  |  |  |        ├─ leaf val:1.0\n",
      "|  |  |  |        └─ leaf val:3.0\n",
      "|  |  |  └─ signal:4 val:-63.0\n",
      "|  |  |     ├─ signal:0 val:-56.0\n",
      "|  |  |     |  ├─ leaf val:1.0\n",
      "|  |  |     |  └─ leaf val:3.0\n",
      "|  |  |     └─ signal:0 val:-56.0\n",
      "|  |  |        ├─ leaf val:3.0\n",
      "|  |  |        └─ leaf val:4.0\n",
      "|  |  └─ signal:1 val:-50.0\n",
      "|  |     ├─ leaf val:3.0\n",
      "|  |     └─ signal:0 val:-58.0\n",
      "|  |        ├─ leaf val:3.0\n",
      "|  |        └─ leaf val:1.0\n",
      "|  └─ signal:4 val:-55.5\n",
      "|     ├─ signal:0 val:-55.5\n",
      "|     |  ├─ signal:0 val:-56.0\n",
      "|     |  |  ├─ leaf val:4.0\n",
      "|     |  |  └─ signal:1 val:-50.0\n",
      "|     |  |     ├─ leaf val:3.0\n",
      "|     |  |     └─ leaf val:4.0\n",
      "|     |  └─ signal:3 val:-57.0\n",
      "|     |     ├─ signal:0 val:-54.0\n",
      "|     |     |  ├─ leaf val:4.0\n",
      "|     |     |  └─ leaf val:3.0\n",
      "|     |     └─ leaf val:3.0\n",
      "|     └─ leaf val:4.0\n",
      "└─ signal:0 val:-43.5\n",
      "   ├─ signal:3 val:-45.5\n",
      "   |  ├─ signal:2 val:-51.5\n",
      "   |  |  ├─ signal:3 val:-47.5\n",
      "   |  |  |  ├─ signal:4 val:-62.5\n",
      "   |  |  |  |  ├─ signal:5 val:-76.5\n",
      "   |  |  |  |  |  ├─ signal:1 val:-55.5\n",
      "   |  |  |  |  |  |  ├─ signal:5 val:-77.0\n",
      "   |  |  |  |  |  |  |  ├─ signal:6 val:-75.5\n",
      "   |  |  |  |  |  |  |  |  ├─ signal:4 val:-71.5\n",
      "   |  |  |  |  |  |  |  |  |  ├─ signal:0 val:-47.0\n",
      "   |  |  |  |  |  |  |  |  |  |  ├─ leaf val:3.0\n",
      "   |  |  |  |  |  |  |  |  |  |  └─ leaf val:2.0\n",
      "   |  |  |  |  |  |  |  |  |  └─ signal:6 val:-76.0\n",
      "   |  |  |  |  |  |  |  |  |     ├─ leaf val:3.0\n",
      "   |  |  |  |  |  |  |  |  |     └─ leaf val:2.0\n",
      "   |  |  |  |  |  |  |  |  └─ signal:1 val:-60.0\n",
      "   |  |  |  |  |  |  |  |     ├─ leaf val:3.0\n",
      "   |  |  |  |  |  |  |  |     └─ leaf val:2.0\n",
      "   |  |  |  |  |  |  |  └─ leaf val:2.0\n",
      "   |  |  |  |  |  |  └─ signal:6 val:-73.0\n",
      "   |  |  |  |  |  |     ├─ leaf val:3.0\n",
      "   |  |  |  |  |  |     └─ leaf val:2.0\n",
      "   |  |  |  |  |  └─ signal:1 val:-52.0\n",
      "   |  |  |  |  |     ├─ signal:1 val:-53.0\n",
      "   |  |  |  |  |     |  ├─ leaf val:2.0\n",
      "   |  |  |  |  |     |  └─ leaf val:3.0\n",
      "   |  |  |  |  |     └─ leaf val:3.0\n",
      "   |  |  |  |  └─ leaf val:3.0\n",
      "   |  |  |  └─ signal:6 val:-78.5\n",
      "   |  |  |     ├─ signal:6 val:-79.0\n",
      "   |  |  |     |  ├─ leaf val:3.0\n",
      "   |  |  |     |  └─ signal:1 val:-48.0\n",
      "   |  |  |     |     ├─ signal:1 val:-50.0\n",
      "   |  |  |     |     |  ├─ leaf val:2.0\n",
      "   |  |  |     |     |  └─ leaf val:3.0\n",
      "   |  |  |     |     └─ leaf val:3.0\n",
      "   |  |  |     └─ signal:0 val:-44.5\n",
      "   |  |  |        ├─ signal:1 val:-52.0\n",
      "   |  |  |        |  ├─ signal:1 val:-55.0\n",
      "   |  |  |        |  |  ├─ leaf val:2.0\n",
      "   |  |  |        |  |  └─ leaf val:3.0\n",
      "   |  |  |        |  └─ leaf val:3.0\n",
      "   |  |  |        └─ leaf val:2.0\n",
      "   |  |  └─ signal:3 val:-58.5\n",
      "   |  |     ├─ signal:0 val:-49.0\n",
      "   |  |     |  ├─ signal:0 val:-50.0\n",
      "   |  |     |  |  ├─ leaf val:4.0\n",
      "   |  |     |  |  └─ leaf val:3.0\n",
      "   |  |     |  └─ leaf val:3.0\n",
      "   |  |     └─ leaf val:3.0\n",
      "   |  └─ signal:4 val:-68.5\n",
      "   |     ├─ signal:4 val:-69.0\n",
      "   |     |  ├─ leaf val:2.0\n",
      "   |     |  └─ leaf val:3.0\n",
      "   |     └─ signal:3 val:-37.5\n",
      "   |        ├─ signal:6 val:-75.5\n",
      "   |        |  ├─ signal:1 val:-56.5\n",
      "   |        |  |  ├─ signal:3 val:-38.0\n",
      "   |        |  |  |  ├─ signal:3 val:-43.5\n",
      "   |        |  |  |  |  ├─ signal:5 val:-79.0\n",
      "   |        |  |  |  |  |  ├─ leaf val:3.0\n",
      "   |        |  |  |  |  |  └─ leaf val:2.0\n",
      "   |        |  |  |  |  └─ leaf val:3.0\n",
      "   |        |  |  |  └─ leaf val:2.0\n",
      "   |        |  |  └─ leaf val:3.0\n",
      "   |        |  └─ signal:0 val:-44.5\n",
      "   |        |     ├─ signal:0 val:-45.0\n",
      "   |        |     |  ├─ leaf val:3.0\n",
      "   |        |     |  └─ leaf val:2.0\n",
      "   |        |     └─ leaf val:2.0\n",
      "   |        └─ leaf val:2.0\n",
      "   └─ signal:3 val:-49.5\n",
      "      ├─ signal:6 val:-79.0\n",
      "      |  ├─ signal:0 val:-40.0\n",
      "      |  |  ├─ leaf val:3.0\n",
      "      |  |  └─ leaf val:2.0\n",
      "      |  └─ leaf val:2.0\n",
      "      └─ leaf val:2.0\n"
     ]
    }
   ],
   "source": [
    "decisiontree.visualize()"
   ]
  },
  {
   "cell_type": "markdown",
   "metadata": {},
   "source": [
    "To evaluate our tree we split our testdata into the attributes and labels and run the evaluate function"
   ]
  },
  {
   "cell_type": "code",
   "execution_count": 5,
   "metadata": {},
   "outputs": [
    {
     "data": {
      "text/plain": [
       "{'confusionmatrix': array([[42.,  0.,  0.,  0.],\n",
       "        [ 0., 49.,  3.,  0.],\n",
       "        [ 0.,  3., 52.,  2.],\n",
       "        [ 1.,  0.,  0., 48.]]),\n",
       " 'precision': array([1.        , 0.94230769, 0.9122807 , 0.97959184]),\n",
       " 'recall': array([0.97674419, 0.94230769, 0.94545455, 0.96      ]),\n",
       " 'F1score': array([0.98823529, 0.94230769, 0.92857143, 0.96969697]),\n",
       " 'posClassRate': 0.955}"
      ]
     },
     "execution_count": 5,
     "metadata": {},
     "output_type": "execute_result"
    }
   ],
   "source": [
    "\n",
    "decisiontree.evaluate(test)"
   ]
  },
  {
   "cell_type": "markdown",
   "metadata": {},
   "source": [
    "In some cases pruning the tree makes sense to avoid overfitting and improve our evaluation. To prune our tree that we have created we can run the pruning function"
   ]
  },
  {
   "cell_type": "code",
   "execution_count": 6,
   "metadata": {},
   "outputs": [],
   "source": [
    "decisiontree.prune(train,val)"
   ]
  },
  {
   "cell_type": "markdown",
   "metadata": {},
   "source": [
    "If we now evaluate the tree again, we can see that we have improved significantly. This is especially true for the tree created with noisy data. "
   ]
  },
  {
   "cell_type": "code",
   "execution_count": 7,
   "metadata": {},
   "outputs": [
    {
     "data": {
      "text/plain": [
       "{'confusionmatrix': array([[43.,  0.,  0.,  1.],\n",
       "        [ 0., 47.,  3.,  0.],\n",
       "        [ 0.,  5., 52.,  0.],\n",
       "        [ 0.,  0.,  0., 49.]]),\n",
       " 'precision': array([0.97727273, 0.94      , 0.9122807 , 1.        ]),\n",
       " 'recall': array([1.        , 0.90384615, 0.94545455, 0.98      ]),\n",
       " 'F1score': array([0.98850575, 0.92156863, 0.92857143, 0.98989899]),\n",
       " 'posClassRate': 0.955}"
      ]
     },
     "execution_count": 7,
     "metadata": {},
     "output_type": "execute_result"
    }
   ],
   "source": [
    "decisiontree.evaluate(test)"
   ]
  },
  {
   "cell_type": "markdown",
   "metadata": {},
   "source": [
    "We can also see that our tree got significantly simpler if we visualize it again"
   ]
  },
  {
   "cell_type": "code",
   "execution_count": 8,
   "metadata": {},
   "outputs": [
    {
     "name": "stdout",
     "output_type": "stream",
     "text": [
      "Depth of the tree: 9\n",
      "\n",
      "signal:0 val:-53.5\n",
      "├─ signal:4 val:-58.5\n",
      "|  ├─ signal:3 val:-55.5\n",
      "|  |  ├─ leaf val:1.0\n",
      "|  |  └─ leaf val:3.0\n",
      "|  └─ leaf val:4.0\n",
      "└─ signal:0 val:-43.5\n",
      "   ├─ signal:3 val:-45.5\n",
      "   |  ├─ signal:2 val:-51.5\n",
      "   |  |  ├─ signal:3 val:-47.5\n",
      "   |  |  |  ├─ leaf val:3.0\n",
      "   |  |  |  └─ signal:6 val:-78.5\n",
      "   |  |  |     ├─ leaf val:3.0\n",
      "   |  |  |     └─ signal:0 val:-44.5\n",
      "   |  |  |        ├─ signal:1 val:-52.0\n",
      "   |  |  |        |  ├─ leaf val:2.0\n",
      "   |  |  |        |  └─ leaf val:3.0\n",
      "   |  |  |        └─ leaf val:2.0\n",
      "   |  |  └─ leaf val:3.0\n",
      "   |  └─ signal:4 val:-68.5\n",
      "   |     ├─ leaf val:2.0\n",
      "   |     └─ signal:3 val:-37.5\n",
      "   |        ├─ signal:6 val:-75.5\n",
      "   |        |  ├─ leaf val:3.0\n",
      "   |        |  └─ leaf val:2.0\n",
      "   |        └─ leaf val:2.0\n",
      "   └─ signal:3 val:-49.5\n",
      "      ├─ signal:6 val:-79.0\n",
      "      |  ├─ leaf val:3.0\n",
      "      |  └─ leaf val:2.0\n",
      "      └─ leaf val:2.0\n"
     ]
    }
   ],
   "source": [
    "decisiontree.visualize()"
   ]
  },
  {
   "cell_type": "markdown",
   "metadata": {},
   "source": [
    "To to K-fold cross validation run the cross_val function as follows:"
   ]
  },
  {
   "cell_type": "code",
   "execution_count": 9,
   "metadata": {},
   "outputs": [
    {
     "name": "stdout",
     "output_type": "stream",
     "text": [
      "Tree Complete! Test Set: 0 Validation Set: 1\n",
      "Tree Complete! Test Set: 0 Validation Set: 2\n",
      "Tree Complete! Test Set: 0 Validation Set: 3\n",
      "Tree Complete! Test Set: 0 Validation Set: 4\n",
      "Tree Complete! Test Set: 0 Validation Set: 5\n",
      "Tree Complete! Test Set: 0 Validation Set: 6\n",
      "Tree Complete! Test Set: 0 Validation Set: 7\n",
      "Tree Complete! Test Set: 0 Validation Set: 8\n",
      "Tree Complete! Test Set: 0 Validation Set: 9\n",
      "Tree Complete! Test Set: 1 Validation Set: 0\n",
      "Tree Complete! Test Set: 1 Validation Set: 2\n",
      "Tree Complete! Test Set: 1 Validation Set: 3\n",
      "Tree Complete! Test Set: 1 Validation Set: 4\n",
      "Tree Complete! Test Set: 1 Validation Set: 5\n",
      "Tree Complete! Test Set: 1 Validation Set: 6\n",
      "Tree Complete! Test Set: 1 Validation Set: 7\n",
      "Tree Complete! Test Set: 1 Validation Set: 8\n",
      "Tree Complete! Test Set: 1 Validation Set: 9\n",
      "Tree Complete! Test Set: 2 Validation Set: 0\n",
      "Tree Complete! Test Set: 2 Validation Set: 1\n",
      "Tree Complete! Test Set: 2 Validation Set: 3\n",
      "Tree Complete! Test Set: 2 Validation Set: 4\n",
      "Tree Complete! Test Set: 2 Validation Set: 5\n",
      "Tree Complete! Test Set: 2 Validation Set: 6\n",
      "Tree Complete! Test Set: 2 Validation Set: 7\n",
      "Tree Complete! Test Set: 2 Validation Set: 8\n",
      "Tree Complete! Test Set: 2 Validation Set: 9\n",
      "Tree Complete! Test Set: 3 Validation Set: 0\n",
      "Tree Complete! Test Set: 3 Validation Set: 1\n",
      "Tree Complete! Test Set: 3 Validation Set: 2\n",
      "Tree Complete! Test Set: 3 Validation Set: 4\n",
      "Tree Complete! Test Set: 3 Validation Set: 5\n",
      "Tree Complete! Test Set: 3 Validation Set: 6\n",
      "Tree Complete! Test Set: 3 Validation Set: 7\n",
      "Tree Complete! Test Set: 3 Validation Set: 8\n",
      "Tree Complete! Test Set: 3 Validation Set: 9\n",
      "Tree Complete! Test Set: 4 Validation Set: 0\n",
      "Tree Complete! Test Set: 4 Validation Set: 1\n",
      "Tree Complete! Test Set: 4 Validation Set: 2\n",
      "Tree Complete! Test Set: 4 Validation Set: 3\n",
      "Tree Complete! Test Set: 4 Validation Set: 5\n",
      "Tree Complete! Test Set: 4 Validation Set: 6\n",
      "Tree Complete! Test Set: 4 Validation Set: 7\n",
      "Tree Complete! Test Set: 4 Validation Set: 8\n",
      "Tree Complete! Test Set: 4 Validation Set: 9\n",
      "Tree Complete! Test Set: 5 Validation Set: 0\n",
      "Tree Complete! Test Set: 5 Validation Set: 1\n",
      "Tree Complete! Test Set: 5 Validation Set: 2\n",
      "Tree Complete! Test Set: 5 Validation Set: 3\n",
      "Tree Complete! Test Set: 5 Validation Set: 4\n",
      "Tree Complete! Test Set: 5 Validation Set: 6\n",
      "Tree Complete! Test Set: 5 Validation Set: 7\n",
      "Tree Complete! Test Set: 5 Validation Set: 8\n",
      "Tree Complete! Test Set: 5 Validation Set: 9\n",
      "Tree Complete! Test Set: 6 Validation Set: 0\n",
      "Tree Complete! Test Set: 6 Validation Set: 1\n",
      "Tree Complete! Test Set: 6 Validation Set: 2\n",
      "Tree Complete! Test Set: 6 Validation Set: 3\n",
      "Tree Complete! Test Set: 6 Validation Set: 4\n",
      "Tree Complete! Test Set: 6 Validation Set: 5\n",
      "Tree Complete! Test Set: 6 Validation Set: 7\n",
      "Tree Complete! Test Set: 6 Validation Set: 8\n",
      "Tree Complete! Test Set: 6 Validation Set: 9\n",
      "Tree Complete! Test Set: 7 Validation Set: 0\n",
      "Tree Complete! Test Set: 7 Validation Set: 1\n",
      "Tree Complete! Test Set: 7 Validation Set: 2\n",
      "Tree Complete! Test Set: 7 Validation Set: 3\n",
      "Tree Complete! Test Set: 7 Validation Set: 4\n",
      "Tree Complete! Test Set: 7 Validation Set: 5\n",
      "Tree Complete! Test Set: 7 Validation Set: 6\n",
      "Tree Complete! Test Set: 7 Validation Set: 8\n",
      "Tree Complete! Test Set: 7 Validation Set: 9\n",
      "Tree Complete! Test Set: 8 Validation Set: 0\n",
      "Tree Complete! Test Set: 8 Validation Set: 1\n",
      "Tree Complete! Test Set: 8 Validation Set: 2\n",
      "Tree Complete! Test Set: 8 Validation Set: 3\n",
      "Tree Complete! Test Set: 8 Validation Set: 4\n",
      "Tree Complete! Test Set: 8 Validation Set: 5\n",
      "Tree Complete! Test Set: 8 Validation Set: 6\n",
      "Tree Complete! Test Set: 8 Validation Set: 7\n",
      "Tree Complete! Test Set: 8 Validation Set: 9\n",
      "Tree Complete! Test Set: 9 Validation Set: 0\n",
      "Tree Complete! Test Set: 9 Validation Set: 1\n",
      "Tree Complete! Test Set: 9 Validation Set: 2\n",
      "Tree Complete! Test Set: 9 Validation Set: 3\n",
      "Tree Complete! Test Set: 9 Validation Set: 4\n",
      "Tree Complete! Test Set: 9 Validation Set: 5\n",
      "Tree Complete! Test Set: 9 Validation Set: 6\n",
      "Tree Complete! Test Set: 9 Validation Set: 7\n",
      "Tree Complete! Test Set: 9 Validation Set: 8\n",
      "\n",
      "#############################\n",
      "10-fold Crossvalidation complete. Average scores unpruned tree over all folds:\n",
      "Average Confusion Matrix:\n",
      "[[49.5         0.          0.24444444  0.35555556]\n",
      " [ 0.         47.45555556  2.14444444  0.        ]\n",
      " [ 0.13333333  2.54444444 47.16666667  0.43333333]\n",
      " [ 0.36666667  0.          0.44444444 49.21111111]]\n",
      "Average Precision: 96.74%\n",
      "Average Precision per Class:\n",
      "[0.98875266 0.9573626  0.93988263 0.98344185]\n",
      "Average Recall: 96.68%\n",
      "Average Recall per Class:\n",
      "[0.99046499 0.95066755 0.94226045 0.98383959]\n",
      "Average F1: 96.67%\n",
      "Average F1 score per Class:\n",
      "[0.98951599 0.95343679 0.94053133 0.98343281]\n",
      "Average Classification Rate: 96.67%\n",
      "#############################\n",
      "Average scores pruned tree over all folds:\n",
      "Average Confusion Matrix:\n",
      "[[49.82222222  0.          0.58888889  0.52222222]\n",
      " [ 0.         46.96666667  1.28888889  0.        ]\n",
      " [ 0.12222222  3.03333333 47.74444444  0.23333333]\n",
      " [ 0.05555556  0.          0.37777778 49.24444444]]\n",
      "Average Precision: 97.01%\n",
      "Average Precision per Class:\n",
      "[0.97956005 0.97415692 0.93509792 0.99150958]\n",
      "Average Recall: 96.90%\n",
      "Average Recall per Class:\n",
      "[0.99668831 0.94173112 0.9535864  0.98418943]\n",
      "Average F1 score: 96.91%\n",
      "Average F1 score per Class:\n",
      "[0.98787333 0.95714755 0.94360656 0.98772362]\n",
      "Average Classification Rate: 96.89%\n",
      "Runtime: 0:01:39.351780\n",
      "#############################\n",
      "\n"
     ]
    },
    {
     "data": {
      "text/plain": [
       "({'confusionmatrix': array([[49.5       ,  0.        ,  0.24444444,  0.35555556],\n",
       "         [ 0.        , 47.45555556,  2.14444444,  0.        ],\n",
       "         [ 0.13333333,  2.54444444, 47.16666667,  0.43333333],\n",
       "         [ 0.36666667,  0.        ,  0.44444444, 49.21111111]]),\n",
       "  'precision': array([0.98875266, 0.9573626 , 0.93988263, 0.98344185]),\n",
       "  'recall': array([0.99046499, 0.95066755, 0.94226045, 0.98383959]),\n",
       "  'F1score': array([0.98951599, 0.95343679, 0.94053133, 0.98343281]),\n",
       "  'posClassRate': 0.9666666666666666},\n",
       " {'confusionmatrix': array([[49.82222222,  0.        ,  0.58888889,  0.52222222],\n",
       "         [ 0.        , 46.96666667,  1.28888889,  0.        ],\n",
       "         [ 0.12222222,  3.03333333, 47.74444444,  0.23333333],\n",
       "         [ 0.05555556,  0.        ,  0.37777778, 49.24444444]]),\n",
       "  'precision': array([0.97956005, 0.97415692, 0.93509792, 0.99150958]),\n",
       "  'recall': array([0.99668831, 0.94173112, 0.9535864 , 0.98418943]),\n",
       "  'F1score': array([0.98787333, 0.95714755, 0.94360656, 0.98772362]),\n",
       "  'posClassRate': 0.968888888888889})"
      ]
     },
     "execution_count": 9,
     "metadata": {},
     "output_type": "execute_result"
    }
   ],
   "source": [
    "folds = 10\n",
    "cross_val(data,folds)"
   ]
  },
  {
   "cell_type": "code",
   "execution_count": null,
   "metadata": {},
   "outputs": [],
   "source": []
  }
 ],
 "metadata": {
  "kernelspec": {
   "display_name": "Python 3",
   "language": "python",
   "name": "python3"
  },
  "language_info": {
   "codemirror_mode": {
    "name": "ipython",
    "version": 3
   },
   "file_extension": ".py",
   "mimetype": "text/x-python",
   "name": "python",
   "nbconvert_exporter": "python",
   "pygments_lexer": "ipython3",
   "version": "3.8.5"
  }
 },
 "nbformat": 4,
 "nbformat_minor": 4
}
